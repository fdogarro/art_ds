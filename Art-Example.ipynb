{
 "cells": [
  {
   "cell_type": "code",
   "execution_count": 1,
   "metadata": {},
   "outputs": [],
   "source": [
    "import pandas as pd"
   ]
  },
  {
   "cell_type": "code",
   "execution_count": 2,
   "metadata": {},
   "outputs": [],
   "source": [
    "import matplotlib.pyplot as plot"
   ]
  },
  {
   "cell_type": "code",
   "execution_count": 3,
   "metadata": {},
   "outputs": [],
   "source": [
    "artist_data = pd.read_csv('artist_data.csv')"
   ]
  },
  {
   "cell_type": "code",
   "execution_count": 4,
   "metadata": {},
   "outputs": [
    {
     "data": {
      "text/html": [
       "<div>\n",
       "<style scoped>\n",
       "    .dataframe tbody tr th:only-of-type {\n",
       "        vertical-align: middle;\n",
       "    }\n",
       "\n",
       "    .dataframe tbody tr th {\n",
       "        vertical-align: top;\n",
       "    }\n",
       "\n",
       "    .dataframe thead th {\n",
       "        text-align: right;\n",
       "    }\n",
       "</style>\n",
       "<table border=\"1\" class=\"dataframe\">\n",
       "  <thead>\n",
       "    <tr style=\"text-align: right;\">\n",
       "      <th></th>\n",
       "      <th>id</th>\n",
       "      <th>name</th>\n",
       "      <th>gender</th>\n",
       "      <th>dates</th>\n",
       "      <th>yearOfBirth</th>\n",
       "      <th>yearOfDeath</th>\n",
       "      <th>placeOfBirth</th>\n",
       "      <th>placeOfDeath</th>\n",
       "      <th>url</th>\n",
       "    </tr>\n",
       "  </thead>\n",
       "  <tbody>\n",
       "    <tr>\n",
       "      <th>0</th>\n",
       "      <td>10093</td>\n",
       "      <td>Abakanowicz, Magdalena</td>\n",
       "      <td>Female</td>\n",
       "      <td>born 1930</td>\n",
       "      <td>1930.0</td>\n",
       "      <td>NaN</td>\n",
       "      <td>Polska</td>\n",
       "      <td>NaN</td>\n",
       "      <td>http://www.tate.org.uk/art/artists/magdalena-a...</td>\n",
       "    </tr>\n",
       "    <tr>\n",
       "      <th>1</th>\n",
       "      <td>0</td>\n",
       "      <td>Abbey, Edwin Austin</td>\n",
       "      <td>Male</td>\n",
       "      <td>1852–1911</td>\n",
       "      <td>1852.0</td>\n",
       "      <td>1911.0</td>\n",
       "      <td>Philadelphia, United States</td>\n",
       "      <td>London, United Kingdom</td>\n",
       "      <td>http://www.tate.org.uk/art/artists/edwin-austi...</td>\n",
       "    </tr>\n",
       "    <tr>\n",
       "      <th>2</th>\n",
       "      <td>2756</td>\n",
       "      <td>Abbott, Berenice</td>\n",
       "      <td>Female</td>\n",
       "      <td>1898–1991</td>\n",
       "      <td>1898.0</td>\n",
       "      <td>1991.0</td>\n",
       "      <td>Springfield, United States</td>\n",
       "      <td>Monson, United States</td>\n",
       "      <td>http://www.tate.org.uk/art/artists/berenice-ab...</td>\n",
       "    </tr>\n",
       "    <tr>\n",
       "      <th>3</th>\n",
       "      <td>1</td>\n",
       "      <td>Abbott, Lemuel Francis</td>\n",
       "      <td>Male</td>\n",
       "      <td>1760–1803</td>\n",
       "      <td>1760.0</td>\n",
       "      <td>1803.0</td>\n",
       "      <td>Leicestershire, United Kingdom</td>\n",
       "      <td>London, United Kingdom</td>\n",
       "      <td>http://www.tate.org.uk/art/artists/lemuel-fran...</td>\n",
       "    </tr>\n",
       "    <tr>\n",
       "      <th>4</th>\n",
       "      <td>622</td>\n",
       "      <td>Abrahams, Ivor</td>\n",
       "      <td>Male</td>\n",
       "      <td>born 1935</td>\n",
       "      <td>1935.0</td>\n",
       "      <td>NaN</td>\n",
       "      <td>Wigan, United Kingdom</td>\n",
       "      <td>NaN</td>\n",
       "      <td>http://www.tate.org.uk/art/artists/ivor-abraha...</td>\n",
       "    </tr>\n",
       "  </tbody>\n",
       "</table>\n",
       "</div>"
      ],
      "text/plain": [
       "      id                    name  gender      dates  yearOfBirth  yearOfDeath  \\\n",
       "0  10093  Abakanowicz, Magdalena  Female  born 1930       1930.0          NaN   \n",
       "1      0     Abbey, Edwin Austin    Male  1852–1911       1852.0       1911.0   \n",
       "2   2756        Abbott, Berenice  Female  1898–1991       1898.0       1991.0   \n",
       "3      1  Abbott, Lemuel Francis    Male  1760–1803       1760.0       1803.0   \n",
       "4    622          Abrahams, Ivor    Male  born 1935       1935.0          NaN   \n",
       "\n",
       "                     placeOfBirth            placeOfDeath  \\\n",
       "0                          Polska                     NaN   \n",
       "1     Philadelphia, United States  London, United Kingdom   \n",
       "2      Springfield, United States   Monson, United States   \n",
       "3  Leicestershire, United Kingdom  London, United Kingdom   \n",
       "4           Wigan, United Kingdom                     NaN   \n",
       "\n",
       "                                                 url  \n",
       "0  http://www.tate.org.uk/art/artists/magdalena-a...  \n",
       "1  http://www.tate.org.uk/art/artists/edwin-austi...  \n",
       "2  http://www.tate.org.uk/art/artists/berenice-ab...  \n",
       "3  http://www.tate.org.uk/art/artists/lemuel-fran...  \n",
       "4  http://www.tate.org.uk/art/artists/ivor-abraha...  "
      ]
     },
     "execution_count": 4,
     "metadata": {},
     "output_type": "execute_result"
    }
   ],
   "source": [
    "artist_data.head()"
   ]
  },
  {
   "cell_type": "code",
   "execution_count": 5,
   "metadata": {},
   "outputs": [
    {
     "data": {
      "text/plain": [
       "(3532, 9)"
      ]
     },
     "execution_count": 5,
     "metadata": {},
     "output_type": "execute_result"
    }
   ],
   "source": [
    "artist_data.shape"
   ]
  },
  {
   "cell_type": "code",
   "execution_count": 6,
   "metadata": {},
   "outputs": [
    {
     "ename": "NameError",
     "evalue": "name 'artist' is not defined",
     "output_type": "error",
     "traceback": [
      "\u001b[0;31m---------------------------------------------------------------------------\u001b[0m",
      "\u001b[0;31mNameError\u001b[0m                                 Traceback (most recent call last)",
      "\u001b[0;32m<ipython-input-6-2c090f2481d3>\u001b[0m in \u001b[0;36m<module>\u001b[0;34m()\u001b[0m\n\u001b[0;32m----> 1\u001b[0;31m \u001b[0martist\u001b[0m\u001b[0;34m.\u001b[0m\u001b[0mdtypes\u001b[0m\u001b[0;34m\u001b[0m\u001b[0m\n\u001b[0m",
      "\u001b[0;31mNameError\u001b[0m: name 'artist' is not defined"
     ]
    }
   ],
   "source": [
    "artist.dtypes"
   ]
  },
  {
   "cell_type": "code",
   "execution_count": 8,
   "metadata": {},
   "outputs": [
    {
     "data": {
      "text/plain": [
       "id                 0\n",
       "name               0\n",
       "gender           116\n",
       "dates             62\n",
       "yearOfBirth       60\n",
       "yearOfDeath     1304\n",
       "placeOfBirth     492\n",
       "placeOfDeath    2079\n",
       "url                0\n",
       "dtype: int64"
      ]
     },
     "execution_count": 8,
     "metadata": {},
     "output_type": "execute_result"
    }
   ],
   "source": [
    "artist_data.isnull().sum()"
   ]
  },
  {
   "cell_type": "code",
   "execution_count": null,
   "metadata": {},
   "outputs": [],
   "source": []
  }
 ],
 "metadata": {
  "kernelspec": {
   "display_name": "Python 3",
   "language": "python",
   "name": "python3"
  },
  "language_info": {
   "codemirror_mode": {
    "name": "ipython",
    "version": 3
   },
   "file_extension": ".py",
   "mimetype": "text/x-python",
   "name": "python",
   "nbconvert_exporter": "python",
   "pygments_lexer": "ipython3",
   "version": "3.6.2"
  }
 },
 "nbformat": 4,
 "nbformat_minor": 2
}
